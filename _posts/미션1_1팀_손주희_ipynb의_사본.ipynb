{
  "nbformat": 4,
  "nbformat_minor": 0,
  "metadata": {
    "colab": {
      "provenance": [],
      "toc_visible": true
    },
    "kernelspec": {
      "name": "python3",
      "display_name": "Python 3"
    },
    "language_info": {
      "name": "python"
    }
  },
  "cells": [
    {
      "cell_type": "markdown",
      "source": [
        "# **파이썬 연습**"
      ],
      "metadata": {
        "id": "PbVgH0G4_mer"
      }
    },
    {
      "cell_type": "markdown",
      "source": [
        "## 기초(7문제)"
      ],
      "metadata": {
        "id": "Q4Wm3gxu_xHr"
      }
    },
    {
      "cell_type": "markdown",
      "source": [
        "### 문제1. 3의 배수 출력"
      ],
      "metadata": {
        "id": "Juz-6LWkAItk"
      }
    },
    {
      "cell_type": "markdown",
      "source": [
        "- **문제 설명**  \n",
        "1부터 n까지의 숫자 중에서 3의 배수만 출력하는 함수를 작성하세요.\n",
        "\n",
        "- **함수 설명**  \n",
        "`print_multiples_of_three(n: int) -> int`:  \n",
        "  - n: 3의 배수를 구하고자 하는 범위의 최대값입니다.\n",
        "\n",
        "- **입출력 예시**   \n",
        "\n",
        "    - 입력1:\n",
        "\n",
        "    ```\n",
        "    7\n",
        "    ```\n",
        "\n",
        "    - 출력1:\n",
        "\n",
        "    ```\n",
        "    3\n",
        "    6\n",
        "    ```\n",
        "\n",
        "    - 입력2:\n",
        "    \n",
        "    ```\n",
        "    30\n",
        "    ```\n",
        "\n",
        "    - 출력2:\n",
        "\n",
        "    ```\n",
        "    3\n",
        "    6\n",
        "    9\n",
        "    12\n",
        "    15\n",
        "    18\n",
        "    21\n",
        "    24\n",
        "    27\n",
        "    30\n",
        "    ```"
      ],
      "metadata": {
        "id": "AiHzC_5X_7u2"
      }
    },
    {
      "cell_type": "code",
      "source": [
        "# 문제\n",
        "def print_multiples_of_three(n):\n",
        "    for i in range(3, n + 1):\n",
        "      if i % 3 == 0:\n",
        "        print(i)"
      ],
      "metadata": {
        "id": "m1BC9Ez0_iuS"
      },
      "execution_count": null,
      "outputs": []
    },
    {
      "cell_type": "code",
      "source": [
        "# 프로그램 실행\n",
        "print_multiples_of_three(7)"
      ],
      "metadata": {
        "id": "StCVnx4-cpaI",
        "colab": {
          "base_uri": "https://localhost:8080/"
        },
        "outputId": "99a23297-e555-41a3-f132-f5423a428790"
      },
      "execution_count": null,
      "outputs": [
        {
          "output_type": "stream",
          "name": "stdout",
          "text": [
            "3\n",
            "6\n"
          ]
        }
      ]
    },
    {
      "cell_type": "markdown",
      "source": [
        "### 문제2. 모음 제거하기"
      ],
      "metadata": {
        "id": "370RMQCNAyq_"
      }
    },
    {
      "cell_type": "markdown",
      "source": [
        "- **문제 설명**  \n",
        "문자열에서 모음(a, e, i, o, u)을 제거한 문자열을 반환하는 함수를 작성하세요.\n",
        "\n",
        "- **함수 설명**  \n",
        "`remove_vowels(s: string) -> string`:  \n",
        "  - s: 영어 소문자 알파벳으로 이루어진 문자열입니다.\n",
        "\n",
        "- **입출력 예시**   \n",
        "\n",
        "    - 입력1:\n",
        "\n",
        "    ```\n",
        "    \"codeit\"\n",
        "    ```\n",
        "\n",
        "    - 출력1:\n",
        "\n",
        "    ```\n",
        "    \"cdt\"\n",
        "    ```\n",
        "\n",
        "    - 입력2:\n",
        "    \n",
        "    ```\n",
        "    \"python programming\"\n",
        "    ```\n",
        "\n",
        "    - 출력2:\n",
        "\n",
        "    ```\n",
        "    \"pythn prgrmmng\"\n",
        "    ```\n",
        "\n"
      ],
      "metadata": {
        "id": "NPqtMNfXBjEH"
      }
    },
    {
      "cell_type": "code",
      "source": [
        "# 문제\n",
        "def remove_vowels(s):\n",
        "  return s.translate(str.maketrans('', '', 'aeiou'))"
      ],
      "metadata": {
        "id": "ySFIF63AA5p2"
      },
      "execution_count": null,
      "outputs": []
    },
    {
      "cell_type": "code",
      "source": [
        "# 프로그램 실행\n",
        "print(remove_vowels(\"codeit\"))"
      ],
      "metadata": {
        "id": "whdVJ850crtz",
        "colab": {
          "base_uri": "https://localhost:8080/"
        },
        "outputId": "fdfa9354-94ab-44b1-ba10-6673508fad96"
      },
      "execution_count": null,
      "outputs": [
        {
          "output_type": "stream",
          "name": "stdout",
          "text": [
            "cdt\n"
          ]
        }
      ]
    },
    {
      "cell_type": "markdown",
      "source": [
        "### 문제3. 수 크기 비교하기"
      ],
      "metadata": {
        "id": "3fmZxhvUA84G"
      }
    },
    {
      "cell_type": "markdown",
      "source": [
        "- **문제 설명**  \n",
        "두 개의 숫자를 입력받아, 큰 숫자와 작은 숫자를 각각 반환하는 함수를 작성하세요.\n",
        "(단, 동일한 숫자를 2회 입력하는 경우에는 순서 없이 한 번만 출력되도록 해 주세요.)\n",
        "\n",
        "- **함수 설명**\n",
        "\n",
        "  `compare_numbers(num1, num2)`:  \n",
        "  - num1, num2 : 정수형\n",
        "\n",
        "- **입출력 예시**\n",
        "\n",
        "  - 입력:\n",
        "    ```\n",
        "    10, 20\n",
        "    ```\n",
        "\n",
        "  - 출력:\n",
        "    ```\n",
        "    20\n",
        "    ```"
      ],
      "metadata": {
        "id": "neh_z-dxB246"
      }
    },
    {
      "cell_type": "code",
      "source": [
        "# 문제\n",
        "def compare_numbers(num1, num2):\n",
        "  if num1 == num2:\n",
        "    return num1\n",
        "  return max(num1, num2), min(num1, num2)"
      ],
      "metadata": {
        "id": "uy7jlZ5HA84I"
      },
      "execution_count": null,
      "outputs": []
    },
    {
      "cell_type": "code",
      "source": [
        "# 프로그램 실행\n",
        "print(compare_numbers(10, 20))"
      ],
      "metadata": {
        "id": "TaCXp5wPcteR",
        "colab": {
          "base_uri": "https://localhost:8080/"
        },
        "outputId": "57521644-0037-40fe-dc5e-701a59151d53"
      },
      "execution_count": null,
      "outputs": [
        {
          "output_type": "stream",
          "name": "stdout",
          "text": [
            "(20, 10)\n"
          ]
        }
      ]
    },
    {
      "cell_type": "markdown",
      "source": [
        "### 문제4. 문자열 길이 반환하기"
      ],
      "metadata": {
        "id": "y676kwTvA9JC"
      }
    },
    {
      "cell_type": "markdown",
      "source": [
        "- **문제 설명**  \n",
        "문자열의 길이를 반환하되, 문자열이 빈 문자열이면 “문자열이 비어 있습니다.“를 반환하는 함수를 작성하세요.\n",
        "\n",
        "- **함수 설명**\n",
        "`check_string_length(string)`:  \n",
        "  - string : 영어 알파벳 및 공백이 포함된 문자열입니다.\n",
        "\n",
        "- **입출력 예시**   \n",
        "\n",
        "    - 입력1:\n",
        "\n",
        "    ```\n",
        "    \"Python\"\n",
        "    ```\n",
        "\n",
        "    - 출력1:\n",
        "\n",
        "    ```\n",
        "    6\n",
        "    ```\n",
        "\n",
        "    - 입력2:\n",
        "    \n",
        "    ```\n",
        "    \"\"\n",
        "    ```\n",
        "\n",
        "    - 출력2:\n",
        "\n",
        "    ```\n",
        "    \"문자열이 비어 있습니다.\"\n",
        "    ```"
      ],
      "metadata": {
        "id": "ZYsb67Q_CAEB"
      }
    },
    {
      "cell_type": "code",
      "source": [
        "# 문제\n",
        "def check_string_length(string):\n",
        "  if string:\n",
        "    return len(string)\n",
        "  else:\n",
        "    return \"문자열이 비어 있습니다.\""
      ],
      "metadata": {
        "id": "yY4uoyTbCLaY"
      },
      "execution_count": null,
      "outputs": []
    },
    {
      "cell_type": "code",
      "source": [
        "# 프로그램 실행\n",
        "check_string_length(\"\")"
      ],
      "metadata": {
        "id": "IqEvBf2QcwN1",
        "colab": {
          "base_uri": "https://localhost:8080/",
          "height": 36
        },
        "outputId": "71de7215-ccb2-49f2-9ee4-4b64b0b6383b"
      },
      "execution_count": null,
      "outputs": [
        {
          "output_type": "execute_result",
          "data": {
            "text/plain": [
              "'문자열이 비어 있습니다.'"
            ],
            "application/vnd.google.colaboratory.intrinsic+json": {
              "type": "string"
            }
          },
          "metadata": {},
          "execution_count": 26
        }
      ]
    },
    {
      "cell_type": "markdown",
      "source": [
        "### 문제5. 총 합계 구하기"
      ],
      "metadata": {
        "id": "RT_7aSKZBNWd"
      }
    },
    {
      "cell_type": "markdown",
      "source": [
        "- **문제 설명**  \n",
        "0부터 사용자가 입력한 숫자 n까지의 합을 구하는 함수를 작성하세요.\n",
        "\n",
        "- **함수 설명**  \n",
        "`sum_up_to_n(n)`:  \n",
        "  - n: 0보다 큰 정수\n",
        "\n",
        "- **입출력 예시**   \n",
        "\n",
        "    - 입력1:\n",
        "\n",
        "    ```\n",
        "    3\n",
        "    ```\n",
        "\n",
        "    - 출력1:\n",
        "\n",
        "    ```\n",
        "    6\n",
        "    ```\n",
        "\n",
        "    - 입력2:\n",
        "    \n",
        "    ```\n",
        "    10\n",
        "    ```\n",
        "\n",
        "    - 출력2:\n",
        "\n",
        "    ```\n",
        "    55\n",
        "    ```\n",
        "\n"
      ],
      "metadata": {
        "id": "Xc9D8bHFCRJG"
      }
    },
    {
      "cell_type": "code",
      "source": [
        "# 문제\n",
        "def sum_up_to_n(n):\n",
        "  a = list(range(1, n + 1))\n",
        "  return sum(a)"
      ],
      "metadata": {
        "id": "HC4sgDFdBNWk"
      },
      "execution_count": null,
      "outputs": []
    },
    {
      "cell_type": "code",
      "source": [
        "# 프로그램 실행\n",
        "print(sum_up_to_n(3))"
      ],
      "metadata": {
        "id": "pdWV5lntcx9h",
        "colab": {
          "base_uri": "https://localhost:8080/"
        },
        "outputId": "564e44b4-5d8d-4f42-c5d8-ba66a5ce5792"
      },
      "execution_count": null,
      "outputs": [
        {
          "output_type": "stream",
          "name": "stdout",
          "text": [
            "6\n"
          ]
        }
      ]
    },
    {
      "cell_type": "markdown",
      "source": [
        "### 문제6. 짝수 합 구하기"
      ],
      "metadata": {
        "id": "Cvtyy64dBNig"
      }
    },
    {
      "cell_type": "markdown",
      "source": [
        "- **문제 설명**\n",
        "\n",
        "  사용자가 입력한 숫자 n까지의 짝수 합을 구하는 함수를 작성하되, 0을 입력하면 프로그램을 종료하는 함수를 작성하세요. (단, 음수는 입력하지 않는다고 가정합니다.)\n",
        "\n",
        "- **함수 설명**\n",
        "\n",
        "  `sum_even_numbers(n: int)`\n",
        "\n",
        "  - 사용자에게 숫자 입력값을 받아, 1부터 n까지의 짝수 합은 ___ 입니다.\" 가 출력됩니다.\n",
        "  - 0 입력시 종료됨을 안내합니다.\n",
        "\n",
        "- **입출력 예시**\n",
        "\n",
        "    - 입력1:\n",
        "\n",
        "    ```\n",
        "    9\n",
        "    ```\n",
        "\n",
        "    - 출력1:\n",
        "\n",
        "    ```\n",
        "    \"1부터 9까지의 짝수 합은 20입니다.\"\n",
        "    ```\n",
        "\n",
        "    - 입력2:\n",
        "    \n",
        "    ```\n",
        "    0\n",
        "    ```\n",
        "\n",
        "    - 출력2:\n",
        "\n",
        "    ```\n",
        "    종료\n",
        "    ```"
      ],
      "metadata": {
        "id": "jMWwAW7xDGtv"
      }
    },
    {
      "cell_type": "code",
      "source": [
        "# 문제\n",
        "def sum_even_numbers(n):\n",
        "  while True:\n",
        "    n = int(input())\n",
        "    if n == 0:\n",
        "      print('종료')\n",
        "      break\n",
        "    sum_even = sum(i for i in range(2, n + 1, 2))\n",
        "    print(f'1부터 {n}까지의 짝수 합은 {sum_even}입니다.')"
      ],
      "metadata": {
        "id": "1_sLXOtKBNih"
      },
      "execution_count": null,
      "outputs": []
    },
    {
      "cell_type": "code",
      "source": [
        "# 프로그램 실행\n",
        "sum_even_numbers(3)"
      ],
      "metadata": {
        "id": "B8P6CW-ec0sn",
        "colab": {
          "base_uri": "https://localhost:8080/"
        },
        "outputId": "c7e7c571-eca2-4e9f-83c2-3339d12ec19d"
      },
      "execution_count": null,
      "outputs": [
        {
          "output_type": "stream",
          "name": "stdout",
          "text": [
            "9\n",
            "1부터 9까지의 짝수 합은 20입니다.\n",
            "10\n",
            "1부터 10까지의 짝수 합은 30입니다.\n",
            "2\n",
            "1부터 2까지의 짝수 합은 2입니다.\n",
            "4\n",
            "1부터 4까지의 짝수 합은 6입니다.\n",
            "9\n",
            "1부터 9까지의 짝수 합은 20입니다.\n",
            "0\n",
            "종료\n"
          ]
        }
      ]
    },
    {
      "cell_type": "markdown",
      "source": [
        "### 문제7. 두 숫자 나누기"
      ],
      "metadata": {
        "id": "xtmzptFYBNqV"
      }
    },
    {
      "cell_type": "markdown",
      "source": [
        "- **문제 설명**\n",
        "사용자가 입력한 두 숫자를 나누는 프로그램을 작성하세요. 예외가 발생하면 \"잘못된 입력입니다.\"를 반환하는 함수를 작성하세요.\n",
        "\n",
        "- **함수 설명**\n",
        "\n",
        "  `divide_numbers(a, b)`\n",
        "  - 사용자에게 두개의 숫자를 차례대로 입력 받습니다.\n",
        "  - 첫번째 숫자를 두번째 숫자로 나눕니다.\n",
        "  - 결과값을 반환합니다. 단, 예외가 발생하면 \"잘못된 입력입니다.\"를 반환합니다.\n",
        "  - `try-except` 구문을 활용하여 함수를 작성해보세요. 이 문법에 대해서 구글링을 해도 좋습니다.\n",
        "\n",
        "- **입출력 예시**\n",
        "\n",
        "- 입력1:\n",
        "    ```\n",
        "    42, 7\n",
        "    ```\n",
        "\n",
        "- 출력1:\n",
        "    ```\n",
        "    6\n",
        "    ```\n",
        "\n",
        "- 입력2:\n",
        "    ```\n",
        "    135, 0\n",
        "    ```\n",
        "\n",
        "- 출력2:\n",
        "    ```\n",
        "    \"잘못된 입력입니다.\"\n",
        "    ```"
      ],
      "metadata": {
        "id": "BUfPiCg9Defz"
      }
    },
    {
      "cell_type": "code",
      "source": [
        "# 문제\n",
        "def divide_numbers():\n",
        "  try:\n",
        "    a, b = map(int, input().split(', '))\n",
        "    print(a // b)\n",
        "  except:\n",
        "    print('잘못된 입력입니다.')"
      ],
      "metadata": {
        "id": "AoZgw6aRBNqa"
      },
      "execution_count": null,
      "outputs": []
    },
    {
      "cell_type": "code",
      "source": [
        "# 프로그램 실행\n",
        "divide_numbers()"
      ],
      "metadata": {
        "id": "RZUAXWopc2sp",
        "colab": {
          "base_uri": "https://localhost:8080/"
        },
        "outputId": "be1abf16-ed57-41fc-862d-fbc3a1cb7d89"
      },
      "execution_count": null,
      "outputs": [
        {
          "output_type": "stream",
          "name": "stdout",
          "text": [
            "135, 0\n",
            "잘못된 입력입니다.\n"
          ]
        }
      ]
    },
    {
      "cell_type": "markdown",
      "source": [
        "## 응용(3문제)"
      ],
      "metadata": {
        "id": "mZDwWOfcFWlb"
      }
    },
    {
      "cell_type": "markdown",
      "source": [
        "### 문제1. 문자열 압축 게임\n",
        "\n"
      ],
      "metadata": {
        "id": "Tuj2xplNFgCq"
      }
    },
    {
      "cell_type": "markdown",
      "source": [
        "- **문제 설명**\n",
        "\n",
        "  주어진 문자열에서 연속해서 같은 문자가 반복되는 경우, 그 문자와 반복 횟수를 이용해 새로운 형태로 문자열을 압축합니다. 예를 들어, \"aabcccccaaa\" 문자열은 \"a2b1c5a3\"로 압축될 수 있습니다.\n",
        "\n",
        "- **함수 설명**  \n",
        "`compress_string(s: str) -> str`:  \n",
        "  - s: 압축하고자 하는 문자열입니다.\n",
        "\n",
        "- **입출력 예시**\n",
        "\n",
        "    - 입력1:\n",
        "\n",
        "    ```\n",
        "    \"aaabbaaa\"\n",
        "    ```\n",
        "\n",
        "    - 출력1:\n",
        "\n",
        "    ```\n",
        "    \"a3b2a3\"\n",
        "    ```\n",
        "\n",
        "    - 입력2:\n",
        "    \n",
        "    ```\n",
        "    \"aabcccccaaa\"\n",
        "    ```\n",
        "\n",
        "    - 출력2:\n",
        "\n",
        "    ```\n",
        "    \"a2b1c5a3\"\n",
        "    ```"
      ],
      "metadata": {
        "id": "txOKh3aEFiw5"
      }
    },
    {
      "cell_type": "code",
      "source": [
        "# 문제\n",
        "def compress_string(s):\n",
        "  a = ''\n",
        "  count = 1\n",
        "  for i in range(1, len(s)):\n",
        "    if s[i] == s[i-1]:\n",
        "      count += 1\n",
        "    else:\n",
        "      a += s[i-1] + str(count)\n",
        "      count = 1\n",
        "  a += s[-1] + str(count)\n",
        "  return a"
      ],
      "metadata": {
        "id": "Ft7h8CGrFi7j"
      },
      "execution_count": null,
      "outputs": []
    },
    {
      "cell_type": "code",
      "source": [
        "# 프로그램 실행\n",
        "compress_string(\"aaabbaaa\")"
      ],
      "metadata": {
        "id": "PP2SR2Fyc4k_",
        "colab": {
          "base_uri": "https://localhost:8080/",
          "height": 36
        },
        "outputId": "e0ce5bb1-0184-4e15-b77c-4a34334b347c"
      },
      "execution_count": null,
      "outputs": [
        {
          "output_type": "execute_result",
          "data": {
            "text/plain": [
              "'a3b2a3'"
            ],
            "application/vnd.google.colaboratory.intrinsic+json": {
              "type": "string"
            }
          },
          "metadata": {},
          "execution_count": 59
        }
      ]
    },
    {
      "cell_type": "markdown",
      "source": [
        "### 문제2. 덧셈 프로그램\n",
        "\n"
      ],
      "metadata": {
        "id": "y4kJ_x6eFnmp"
      }
    },
    {
      "cell_type": "markdown",
      "source": [
        "- **문제 설명**\n",
        "이 프로그램은 두 개의 숫자를 입력받아 그 합을 계산합니다. 입력받은 값이 숫자 형식이 아니면, 사용자에게 숫자 형식의 입력을 요청합니다. 숫자 입력이 완료되면 두 숫자의 합을 출력합니다.\n",
        "\n",
        "- **함수 설명**\n",
        "\n",
        "  `add_numbers()`\n",
        "  - 이 함수는 `input()`을 사용하여 사용자로부터 두 개의 숫자를 입력받습니다.\n",
        "  - 입력된 값이 숫자가 아닐 경우, \"올바른 숫자를 입력하세요.\"라는 메시지를 출력하고 다시 입력을 요청합니다.\n",
        "  - 두 숫자의 합을 계산하고 결과를 출력합니다.\n",
        "\n",
        "- **입출력 예시**\n",
        "\n",
        "    - 입력:\n",
        "        ```\n",
        "        첫 번째 숫자를 입력하세요: 10\n",
        "        첫 번째 숫자를 입력하세요: twenty\n",
        "        첫 번째 숫자를 입력하세요: 10\n",
        "        두 번째 숫자를 입력하세요: 20\n",
        "        ```\n",
        "\n",
        "    - 출력:\n",
        "        ```\n",
        "        올바른 숫자를 입력하세요.\n",
        "        10 + 20 = 30\n",
        "        ```"
      ],
      "metadata": {
        "id": "nT-U2IVsFnmr"
      }
    },
    {
      "cell_type": "code",
      "source": [
        "# 문제\n",
        "def add_numbers():\n",
        "    try:\n",
        "      first = int(input('첫 번째 숫자를 입력하세요: '))\n",
        "      second = int(input('두 번째 숫자를 입력하세요: '))\n",
        "      print(first + second)\n",
        "    except ValueError:\n",
        "      print('올바른 숫자를 입력하세요.')\n",
        "      return add_numbers()"
      ],
      "metadata": {
        "id": "Np5jxyB8Fnms"
      },
      "execution_count": null,
      "outputs": []
    },
    {
      "cell_type": "code",
      "source": [
        "# 프로그램 실행\n",
        "add_numbers()"
      ],
      "metadata": {
        "id": "TA_0uSezYJsK",
        "colab": {
          "base_uri": "https://localhost:8080/"
        },
        "outputId": "5e974d37-5c46-413b-f18b-f9cff7c50232"
      },
      "execution_count": null,
      "outputs": [
        {
          "output_type": "stream",
          "name": "stdout",
          "text": [
            "첫 번째 숫자를 입력하세요: 20\n",
            "두 번째 숫자를 입력하세요: ㅗㅑ\n",
            "올바른 숫자를 입력하세요.\n",
            "첫 번째 숫자를 입력하세요: 20\n",
            "두 번째 숫자를 입력하세요: 10\n",
            "30\n"
          ]
        }
      ]
    },
    {
      "cell_type": "markdown",
      "source": [
        "### 문제3. 카운트다운 타이머"
      ],
      "metadata": {
        "id": "AOeljAinFnxF"
      }
    },
    {
      "cell_type": "markdown",
      "source": [
        "- **문제 설명**  \n",
        "  사용자로부터 시간(초)을 입력받아 해당 시간만큼 카운트 다운을 진행한 후, \"타이머 종료!\"를 출력하고 프로그램이 종료됩니다. 매 초마다 남은 시간을 화면에 출력합니다.\n",
        "\n",
        "- **함수 설명**     \n",
        "  \n",
        "  `count_down(seconds: int)`:  \n",
        "  - seconds: 카운트 다운할 시간(초)입니다.\n",
        "  - 입력받은 초만큼 카운트 다운을 진행하며, 매 초마다 남은 시간을 출력합니다.\n",
        "  - 시간이 종료되면 \"타이머 종료!\"를 출력하고 프로그램을 종료합니다.\n",
        "\n",
        "- **입출력 예시**\n",
        "\n",
        "  - 입력:\n",
        "    ```\n",
        "    타이머를 시작할 시간(초)을 입력하세요: 5\n",
        "    ```\n",
        "\n",
        "  - 출력:\n",
        "    ```\n",
        "    타이머 시작!\n",
        "    5\n",
        "    4\n",
        "    3\n",
        "    2\n",
        "    1\n",
        "    타이머 종료!\n",
        "    ```"
      ],
      "metadata": {
        "id": "cvg3_x06FnxG"
      }
    },
    {
      "cell_type": "code",
      "source": [
        "# 문제\n",
        "import time\n",
        "def countdown_timer(seconds):\n",
        "  print('타이머 시작!')\n",
        "  for i in range(seconds, 0, -1):\n",
        "    print(i)\n",
        "    time.sleep(1)\n",
        "  print('타이머 종료!')"
      ],
      "metadata": {
        "id": "5PkfT7ZTFnxG"
      },
      "execution_count": null,
      "outputs": []
    },
    {
      "cell_type": "code",
      "source": [
        "# 프로그램 실행\n",
        "countdown_timer(5)"
      ],
      "metadata": {
        "id": "Uqb2vhP4YLoy",
        "colab": {
          "base_uri": "https://localhost:8080/"
        },
        "outputId": "88f23799-8d0b-4ce6-b9a1-f2e236fb31ba"
      },
      "execution_count": null,
      "outputs": [
        {
          "output_type": "stream",
          "name": "stdout",
          "text": [
            "타이머 시작!\n",
            "5\n",
            "4\n",
            "3\n",
            "2\n",
            "1\n",
            "타이머 종료!\n"
          ]
        }
      ]
    },
    {
      "cell_type": "markdown",
      "source": [
        "# **객체와 클래스**"
      ],
      "metadata": {
        "id": "HQMkKObNAr4s"
      }
    },
    {
      "cell_type": "markdown",
      "source": [
        "## 기초(2문제)"
      ],
      "metadata": {
        "id": "ko02FG9WGubi"
      }
    },
    {
      "cell_type": "markdown",
      "source": [
        "### 문제1. 시간 추적 클래스(TimeTracker)"
      ],
      "metadata": {
        "id": "DuBZXjwCGwvs"
      }
    },
    {
      "cell_type": "markdown",
      "source": [
        "- **실습 설명**\n",
        "\n",
        "  시간을 관리하고 추적하는 `TimeTracker` 클래스를 구현하는 프로젝트를 시작합니다. 시간 관리 기능은 특히 프로젝트 작업, 운동, 공부 시간 등 다양한 활동의 지속 시간을 측정하는 데 유용합니다.\n",
        "\n",
        "  `TimeTracker` 클래스는 다음 기능을 제공해야 합니다:\n",
        "\n",
        "  1. **시작 시간 설정**: 사용자가 활동을 시작할 때의 시간을 기록합니다.\n",
        "  2. **종료 시간 설정**: 사용자가 활동을 종료할 때의 시간을 기록합니다.\n",
        "  3. **경과 시간 계산**: 활동의 시작과 종료 사이의 시간 차이를 계산합니다.\n",
        "\n",
        "  이 클래스의 인스턴스를 사용하여 각각의 활동에 대해 별도의 시간 추적을 할 수 있어야 합니다.\n",
        "\n",
        "- **구현해야 할 메소드**\n",
        "\n",
        "  - `start`: 현재 시간을 시작 시간으로 설정합니다.\n",
        "  - `stop`: 현재 시간을 종료 시간으로 설정하고 경과 시간을 계산합니다.\n",
        "  - `get_elapsed_time`: 마지막으로 기록된 시작 시간과 종료 시간 사이의 경과 시간을 분 단위로 반환합니다.\n",
        "\n",
        "- **실습 결과 예시**\n",
        "\n",
        "  다음과 같은 코드를 실행했을 때의 출력 예시입니다:\n",
        "\n",
        "  ```python\n",
        "  study_session = TimeTracker()\n",
        "  study_session.start()\n",
        "  # 1시간 30분 경과(가정)\n",
        "  study_session.stop()\n",
        "\n",
        "  print(\"활동 시간:\", study_session.get_elapsed_time(), \"분\")\n",
        "  ```\n",
        "\n",
        "  예상 출력:\n",
        "\n",
        "  ```\n",
        "  공부한 시간: 90 분\n",
        "  ```\n",
        "\n",
        "- **요구 사항**\n",
        "\n",
        "  1. 실제 시간을 추적하려면 Python의 `datetime` 모듈을 사용하여 현재 시간을 `datetime.now()`로 가져올 수 있습니다.\n",
        "  2. 경과 시간은 분 단위로 반환해야 합니다."
      ],
      "metadata": {
        "id": "C6_k548JGygZ"
      }
    },
    {
      "cell_type": "code",
      "source": [
        "from datetime import datetime\n",
        "# print(datetime.now().second)\n",
        "# 문제\n",
        "class TimeTracker:\n",
        "  def __init__(self):\n",
        "    self.starttime = None\n",
        "    self.stoptime = None\n",
        "\n",
        "  def start(self):\n",
        "    self.starttime = datetime.now()\n",
        "\n",
        "  def stop(self):\n",
        "    self.stoptime = datetime.now()\n",
        "\n",
        "  def get_elapsed_time(self):\n",
        "    totaltime = (self.stoptime - self.starttime).seconds // 60\n",
        "    return totaltime\n"
      ],
      "metadata": {
        "id": "h7RXJAbAAvUZ"
      },
      "execution_count": null,
      "outputs": []
    },
    {
      "cell_type": "code",
      "source": [
        "# 사용 예시\n",
        "# 활동 시작\n",
        "study_session = TimeTracker()\n",
        "study_session.start()"
      ],
      "metadata": {
        "id": "AsvTxp19Xyuo"
      },
      "execution_count": null,
      "outputs": []
    },
    {
      "cell_type": "code",
      "source": [
        "# 활동 종료\n",
        "study_session.stop()\n",
        "print(\"공부한 시간:\", study_session.get_elapsed_time(), \"분\")"
      ],
      "metadata": {
        "id": "2eSYFcojj476",
        "colab": {
          "base_uri": "https://localhost:8080/"
        },
        "outputId": "fe1c0216-aefc-4e18-c319-3d279e914549"
      },
      "execution_count": null,
      "outputs": [
        {
          "output_type": "stream",
          "name": "stdout",
          "text": [
            "공부한 시간: 74 분\n"
          ]
        }
      ]
    },
    {
      "cell_type": "markdown",
      "source": [
        "### 문제2. 주소록 클래스"
      ],
      "metadata": {
        "id": "aS6kmb2nHQ8J"
      }
    },
    {
      "cell_type": "markdown",
      "source": [
        "\n",
        "\n",
        "- **실습 설명**\n",
        "\n",
        "  주소록 관리 시스템을 위한 `Contact` 클래스를 구현하는 프로젝트를 시작합니다. 이 클래스는 개인의 기본 연락처 정보를 저장하고 관리하는 데 사용됩니다.\n",
        "\n",
        "  `Contact` 클래스는 다음 정보를 저장할 수 있어야 합니다:\n",
        "\n",
        "  - 이름(name)\n",
        "  - 전화번호(phone number)\n",
        "  - 이메일 주소(email address)\n",
        "\n",
        "  클래스는 이 정보를 효율적으로 관리할 수 있는 기능을 제공해야 합니다.\n",
        "\n",
        "\n",
        "- **구현해야 할 메소드**\n",
        "\n",
        "  - `__init__`: 객체를 생성할 때 이름, 전화번호, 이메일 주소를 초기화합니다.\n",
        "  - `__str__`: 연락처의 정보를 예쁘게 출력할 수 있는 문자열로 반환합니다. 이 문자열은 연락처 정보를 한눈에 알아볼 수 있도록 포맷팅됩니다.\n",
        "\n",
        "\n",
        "                                       \n",
        "\n",
        "- **실습 결과 예시**\n",
        "\n",
        "  다음과 같은 코드를 실행했을 때의 출력 예시입니다:\n",
        "\n",
        "  ```python\n",
        "  friend = Contact(\"Jane Doe\", \"010-1234-5678\", \"jane@example.com\")\n",
        "  print(friend)\n",
        "  ```\n",
        "\n",
        "  예상 출력:\n",
        "\n",
        "  ```\n",
        "  이름: Jane Doe\n",
        "  전화번호: 010-1234-5678\n",
        "  이메일: jane@example.com\n",
        "  ```\n",
        "\n",
        "- **요구 사항**\n",
        "\n",
        "  - 모든 입력 데이터는 문자열로 처리해야 합니다.\n",
        "  - 연락처 정보를 적절하게 포맷팅하여 출력할 수 있어야 합니다."
      ],
      "metadata": {
        "id": "HUmjzWzpHS3Z"
      }
    },
    {
      "cell_type": "code",
      "source": [
        "# 문제\n",
        "class Contact:\n",
        "  def __init__(self, name, phone_number, email_address):\n",
        "    self.name = name\n",
        "    self.phone_number = phone_number\n",
        "    self.email_address = email_address\n",
        "\n",
        "  def __str__(self):\n",
        "    return f'이름: {self.name} \\n전화번호: {self.phone_number} \\n이메일: {self.email_address}'"
      ],
      "metadata": {
        "id": "YGmtWN0_HGxo"
      },
      "execution_count": null,
      "outputs": []
    },
    {
      "cell_type": "code",
      "source": [
        "# 사용 예시\n",
        "friend = Contact(\"Jane Doe\", \"010-1234-5678\", \"jane@example.com\")\n",
        "print(friend)"
      ],
      "metadata": {
        "id": "_YsspEH3ZPHN",
        "colab": {
          "base_uri": "https://localhost:8080/"
        },
        "outputId": "414f4811-e101-47b6-a23b-e9a4daf1c3b4"
      },
      "execution_count": null,
      "outputs": [
        {
          "output_type": "stream",
          "name": "stdout",
          "text": [
            "이름: Jane Doe \n",
            "전화번호: 010-1234-5678 \n",
            "이메일: jane@example.com\n"
          ]
        }
      ]
    },
    {
      "cell_type": "markdown",
      "source": [
        "## 응용(4문제)"
      ],
      "metadata": {
        "id": "wehB6bRNH4cD"
      }
    },
    {
      "cell_type": "markdown",
      "source": [
        "### 문제1. 투표 시스템 클래스"
      ],
      "metadata": {
        "id": "OVzp80MqHkf1"
      }
    },
    {
      "cell_type": "markdown",
      "source": [
        "- **실습 설명**\n",
        "\n",
        "  간단한 투표 시스템을 위한 `VoteSystem` 클래스를 구현하는 프로젝트를 시작합니다. 이 시스템은 후보자 목록을 관리하고, 각 후보자에 대한 투표를 집계하는 기능을 제공합니다.\n",
        "\n",
        "  `VoteSystem` 클래스는 다음 기능을 제공해야 합니다:\n",
        "\n",
        "  - 후보자 등록\n",
        "  - 투표 기능\n",
        "  - 투표 결과 조회\n",
        "\n",
        "- **구현해야 할 메소드**\n",
        "\n",
        "  - `add_candidate`: 후보자를 등록합니다. 후보자의 이름을 입력받아 목록에 추가합니다.\n",
        "  - `vote`: 특정 후보자에게 투표합니다. 투표하려는 후보자의 이름을 입력받습니다.\n",
        "  - `get_results`: 각 후보자의 투표 수를 출력합니다.\n",
        "\n",
        "- **실습 결과 예시**\n",
        "\n",
        "  - 다음과 같은 코드를 실행했을 때의 출력 예시입니다:\n",
        "\n",
        "    ```python\n",
        "    voting_system = VoteSystem()\n",
        "    voting_system.add_candidate(\"Alice\")\n",
        "    voting_system.add_candidate(\"Bob\")\n",
        "    voting_system.add_candidate(\"Charlie\")\n",
        "\n",
        "    voting_system.vote(\"Alice\")\n",
        "    voting_system.vote(\"Alice\")\n",
        "    voting_system.vote(\"Bob\")\n",
        "\n",
        "    voting_system.get_results()\n",
        "    ```\n",
        "\n",
        "  - 예상 출력:\n",
        "\n",
        "    ```\n",
        "    Alice 후보가 성공적으로 등록되었습니다.\n",
        "    Bob 후보가 성공적으로 등록되었습니다.\n",
        "    Charlie 후보가 성공적으로 등록되었습니다.\n",
        "    Alice에게 투표하였습니다.\n",
        "    Alice에게 투표하였습니다.\n",
        "    Bob에게 투표하였습니다.\n",
        "    투표 결과:\n",
        "    Alice: 2 votes\n",
        "    Bob: 1 vote\n",
        "    Charlie: 0 votes\n",
        "    ```\n",
        "\n",
        "- **요구 사항**\n",
        "\n",
        "  - 후보자는 중복 등록될 수 없습니다.\n",
        "  - 등록되지 않은 후보자에게 투표할 수 없습니다.\n",
        "  - 각 후보자의 이름과 투표 수는 사전(dictionary)을 사용하여 관리합니다."
      ],
      "metadata": {
        "id": "HL5-6uKyHksh"
      }
    },
    {
      "cell_type": "code",
      "source": [
        "# 문제\n",
        "class VoteSystem:\n",
        "  name_dict = {}\n",
        "\n",
        "  def add_candidate(self, name):\n",
        "    self.name = name\n",
        "    VoteSystem.name_dict[name] = 0\n",
        "    print(f'{self.name} 후보가 성공적으로 등록되었습니다.')\n",
        "\n",
        "  def vote(self, name):\n",
        "    VoteSystem.name_dict[name] += 1\n",
        "    print(f'{self.name}에게 투표하였습니다.')\n",
        "\n",
        "  def get_results(self):\n",
        "    for d, k in VoteSystem.name_dict.items():\n",
        "      if k >= 2 or k == 0:\n",
        "        print(f'{d}: {k} votes')\n",
        "      else:\n",
        "        print(f'{d}: {k} vote')\n",
        "\n",
        "# 한개일 때 vote인데 왜 0개일 때 votes인가요?"
      ],
      "metadata": {
        "id": "hNWovpBKHmjW"
      },
      "execution_count": null,
      "outputs": []
    },
    {
      "cell_type": "code",
      "source": [
        "# 사용 예시\n",
        "voting_system = VoteSystem()\n",
        "voting_system.add_candidate(\"Alice\")\n",
        "voting_system.add_candidate(\"Bob\")\n",
        "voting_system.add_candidate(\"Charlie\")\n",
        "\n",
        "voting_system.vote(\"Alice\")\n",
        "voting_system.vote(\"Alice\")\n",
        "voting_system.vote(\"Bob\")\n",
        "\n",
        "voting_system.get_results()"
      ],
      "metadata": {
        "id": "c6aW0c4tZc8W",
        "colab": {
          "base_uri": "https://localhost:8080/"
        },
        "outputId": "deba8a61-2cb3-43e3-f12b-336abed4f1a1"
      },
      "execution_count": null,
      "outputs": [
        {
          "output_type": "stream",
          "name": "stdout",
          "text": [
            "Alice 후보가 성공적으로 등록되었습니다.\n",
            "Bob 후보가 성공적으로 등록되었습니다.\n",
            "Charlie 후보가 성공적으로 등록되었습니다.\n",
            "Charlie에게 투표하였습니다.\n",
            "Charlie에게 투표하였습니다.\n",
            "Charlie에게 투표하였습니다.\n",
            "Alice: 2 votes\n",
            "Bob: 1 vote\n",
            "Charlie: 0 votes\n"
          ]
        }
      ]
    },
    {
      "cell_type": "markdown",
      "source": [
        "### 문제2. 은행 계좌 클래스"
      ],
      "metadata": {
        "id": "jAlpA07gH7B2"
      }
    },
    {
      "cell_type": "markdown",
      "source": [
        "- **실습 설명**\n",
        "\n",
        "  간단한 은행 계좌 관리 시스템을 위한 `BankAccount` 클래스를 구현하는 프로젝트를 시작합니다. 이 클래스는 개인의 은행 계좌 정보를 관리하고 기본적인 은행 거래 기능을 제공합니다.\n",
        "\n",
        "  `BankAccount` 클래스는 다음 정보와 기능을 제공해야 합니다:\n",
        "\n",
        "  - 계좌 번호(account number)\n",
        "  - 소유자 이름(account holder)\n",
        "  - 현재 잔액(balance)\n",
        "\n",
        "- **구현해야 할 메소드**\n",
        "\n",
        "  - `__init__`: 객체 생성 시 계좌 번호, 소유자 이름, 초기 잔액을 설정합니다.\n",
        "  - `deposit`: 계좌에 금액을 입금합니다. 입금할 금액을 인자로 받고, 잔액을 업데이트합니다.\n",
        "  - `withdraw`: 계좌에서 금액을 출금합니다. 출금할 금액을 인자로 받고, 잔액이 충분할 경우에만 출금을 허용하고 잔액을 업데이트합니다.\n",
        "  - `get_balance`: 현재 계좌 잔액을 반환합니다.\n",
        "\n",
        "- **실습 결과 예시**\n",
        "\n",
        "  - 다음과 같은 코드를 실행했을 때의 출력 예시입니다:\n",
        "\n",
        "    ```python\n",
        "    my_account = BankAccount(\"123-456-789\", \"김철수\", 100000)\n",
        "    my_account.deposit(50000)\n",
        "    my_account.withdraw(20000)\n",
        "    print(f\"현재 잔액: {my_account.get_balance()}원\")\n",
        "    ```\n",
        "\n",
        "  - 예상 출력:\n",
        "\n",
        "    ```\n",
        "    김철수님의 계좌 123-456-789가 개설되었습니다. 초기 잔액: 100000원\n",
        "    50000원이 입금되었습니다. 현재 잔액: 150000원\n",
        "    20000원이 출금되었습니다. 현재 잔액: 130000원\n",
        "    현재 잔액: 130000원\n",
        "    ```\n",
        "\n",
        "\n",
        "- **요구 사항**\n",
        "\n",
        "  - 계좌에서 출금 시도 시 잔액보다 많은 금액을 출금하려고 하면, 출금을 거부하고 경고 메시지를 출력해야 합니다.\n",
        "  - 모든 금액은 정수 또는 실수로 처리될 수 있어야 하며, 화폐 단위로만 입력받습니다.\n",
        "  - 계좌 생성, 입금, 출금 및 잔액 조회 기능을 모두 구현해야 합니다."
      ],
      "metadata": {
        "id": "AiGBIJWpH7B4"
      }
    },
    {
      "cell_type": "code",
      "source": [
        "# 문제\n",
        "class BankAccount:\n",
        "  def __init__(self, account, name, money):\n",
        "    self.account = account\n",
        "    self.name = name\n",
        "    self.money = money\n",
        "\n",
        "  def deposit(self, money):\n",
        "    self.money += money\n",
        "\n",
        "  def withdraw(self, money):\n",
        "    self.money -= money\n",
        "\n",
        "  def get_balance(self):\n",
        "    return self.money"
      ],
      "metadata": {
        "id": "fnpMUQf7H7B5"
      },
      "execution_count": null,
      "outputs": []
    },
    {
      "cell_type": "code",
      "source": [
        "# 사용 예시\n",
        "my_account = BankAccount(\"123-456-789\", \"김철수\", 100000)\n",
        "my_account.deposit(50000)\n",
        "my_account.withdraw(20000)\n",
        "print(f\"현재 잔액: {my_account.get_balance()}원\")"
      ],
      "metadata": {
        "id": "vugx-M0TZt_G",
        "colab": {
          "base_uri": "https://localhost:8080/"
        },
        "outputId": "8b742b4f-72b3-4279-cc16-b379371217b1"
      },
      "execution_count": null,
      "outputs": [
        {
          "output_type": "stream",
          "name": "stdout",
          "text": [
            "현재 잔액: 130000원\n"
          ]
        }
      ]
    },
    {
      "cell_type": "markdown",
      "source": [
        "### 문제3. 직원 관리 클래스"
      ],
      "metadata": {
        "id": "gLGgyxNbH7JN"
      }
    },
    {
      "cell_type": "markdown",
      "source": [
        "- **실습 설명**\n",
        "\n",
        "  당신은 회사의 HR 부서에서 일하며, 회사 내 모든 직원의 급여 정보를 관리하는 시스템을 개발할 임무를 맡았습니다. 이 시스템은 직원들의 정보를 저장하고, 전체 직원의 평균 급여를 계산하는 기능을 제공해야 합니다.\n",
        "\n",
        "  `EmployeeManager` 클래스는 다음 기능을 제공해야 합니다:\n",
        "\n",
        "  - **직원 추가**: 새로운 직원의 정보를 시스템에 추가합니다. 직원의 이름과 급여 정보를 저장합니다.\n",
        "  - **급여 평균 계산**: 클래스 메서드를 사용하여 모든 직원의 급여 평균을 계산합니다. 이 메서드는 저장된 모든 직원의 급여 정보를 집계하여 평균 급여를 계산하고 출력합니다.\n",
        "\n",
        "- **구현해야 할 메소드**\n",
        "\n",
        "  - `__init__`: 직원의 이름과 급여를 초기화하고, 직원 정보를 클래스 변수에 저장합니다.\n",
        "  - `calculate_average_salary`: 클래스 메서드로 구현되며, `EmployeeManager`에 저장된 모든 직원의 급여 평균을 계산합니다.\n",
        "\n",
        "- **실습 결과 예시**\n",
        "\n",
        "  - 다음과 같은 코드를 실행했을 때의 출력 예시입니다:\n",
        "\n",
        "    ```python\n",
        "    emp1 = EmployeeManager(\"홍길동\", 50000)\n",
        "    emp2 = EmployeeManager(\"김철수\", 60000)\n",
        "\n",
        "    EmployeeManager.calculate_average_salary()\n",
        "    ```\n",
        "\n",
        "  - 예상 출력:\n",
        "\n",
        "    ```\n",
        "    홍길동 님이 추가되었습니다. 급여: 50000원\n",
        "    김철수 님이 추가되었습니다. 급여: 60000원\n",
        "    전체 직원의 평균 급여: 55000원\n",
        "    ```\n",
        "\n",
        "- **요구 사항**\n",
        "\n",
        "  - 직원 정보는 클래스 변수 `employees`에 저장되어 전체 `EmployeeManager` 인스턴스에서 접근 가능해야 합니다.\n",
        "  - `calculate_average_salary` 메서드는 저장된 모든 직원의 급여를 합산하여 평균을 출력하고, 직원이 없는 경우 0을 반환해야 합니다."
      ],
      "metadata": {
        "id": "E4YmPRZ6H7JS"
      }
    },
    {
      "cell_type": "code",
      "source": [
        "# 문제\n",
        "class EmployeeManager:\n",
        "  info = []\n",
        "\n",
        "  def __init__(self, name, money):\n",
        "    self.name = name\n",
        "    self.money = money\n",
        "    EmployeeManager.info.append(self)\n",
        "\n",
        "  @classmethod\n",
        "  def calculate_average_salary(cls):\n",
        "    averge_money = sum(n.money for n in cls.info) // len(cls.info)\n",
        "    return f'전체 직원의 평균 급여: {averge_money}'"
      ],
      "metadata": {
        "id": "vRuY2rAXImzi"
      },
      "execution_count": null,
      "outputs": []
    },
    {
      "cell_type": "code",
      "source": [
        "# 사용 예시\n",
        "emp1 = EmployeeManager(\"홍길동\", 50000)\n",
        "emp2 = EmployeeManager(\"김철수\", 60000)\n",
        "\n",
        "EmployeeManager.calculate_average_salary()"
      ],
      "metadata": {
        "id": "_Q8vSlR8Z0Y7",
        "colab": {
          "base_uri": "https://localhost:8080/",
          "height": 36
        },
        "outputId": "a5e36542-fb36-44df-cf0e-bb513be51816"
      },
      "execution_count": null,
      "outputs": [
        {
          "output_type": "execute_result",
          "data": {
            "text/plain": [
              "'전체 직원의 평균 급여: 55000'"
            ],
            "application/vnd.google.colaboratory.intrinsic+json": {
              "type": "string"
            }
          },
          "metadata": {},
          "execution_count": 174
        }
      ]
    },
    {
      "cell_type": "markdown",
      "source": [
        "### 문제4. 프랜차이즈 레스토랑 관리 클래스"
      ],
      "metadata": {
        "id": "vbeAqh9rIjFc"
      }
    },
    {
      "cell_type": "markdown",
      "source": [
        "\n",
        "- **실습 설명**\n",
        "\n",
        "  당신은 여러 지점을 가진 레스토랑 체인의 IT 팀에서 일하며, 각 지점의 예약을 관리하고 중앙에서 예약 현황을 파악할 수 있는 시스템을 개발할 임무를 맡았습니다. 이 시스템은 각 지점의 예약 상황을 관리하고, 고객의 예약 요청을 효과적으로 처리할 수 있는 기능을 제공해야 합니다.\n",
        "\n",
        "  `ReservationSystem` 클래스는 각 레스토랑 지점의 예약을 관리하며, 다음 기능을 제공해야 합니다:\n",
        "\n",
        "  - **예약 추가**: 고객이 특정 지점, 예약 일시, 인원 수에 대한 예약을 요청하면 시스템에 추가합니다.\n",
        "  - **예약 취소**: 고객이 예약을 취소할 수 있으며, 해당 예약을 시스템에서 제거합니다.\n",
        "  - **예약 조회**: 특정 지점의 모든 예약 상황을 확인할 수 있습니다.\n",
        "  - **예약 집계**: 모든 지점의 예약 수를 합산합니다. 이 메서드는 모든 `ReservationSystem` 인스턴스의 예약 수를 합산하여 보여줍니다.\n",
        "\n",
        "- **구현해야 할 메소드**\n",
        "\n",
        "  - `__init__`: 레스토랑 지점의 이름을 초기화하고 예약 리스트를 관리합니다.\n",
        "  - `add_reservation`: 새로운 예약을 추가합니다. 이 메서드는 예약자 이름, 예약 일시, 인원 수를 받아 저장합니다.\n",
        "  - `list_reservations`: 현재 지점의 모든 예약 상태를 출력합니다.\n",
        "  - `sum_reservations`: 주어진 `ReservationSystem` 인스턴스 리스트에서 모든 예약 수를 합산합니다.\n",
        "\n",
        "- **실습 결과 예시**\n",
        "  \n",
        "  - 다음과 같은 코드를 실행했을 때의 출력 예시입니다:\n",
        "\n",
        "    ```python\n",
        "    restaurant1 = ReservationSystem(\"강남점\")\n",
        "    restaurant2 = ReservationSystem(\"홍대점\")\n",
        "\n",
        "    restaurant1.add_reservation(\"홍길동\", \"2024-05-20\", 4)\n",
        "    restaurant2.add_reservation(\"김철수\", \"2024-05-21\", 2)\n",
        "\n",
        "    restaurant1.list_reservations()\n",
        "    restaurant2.list_reservations()\n",
        "\n",
        "    total_reservations = ReservationSystem.sum_reservations([restaurant1, restaurant2])\n",
        "    print(f\"전체 레스토랑 예약 수: {total_reservations}\")\n",
        "    ```\n",
        "\n",
        "  - 예상 출력:\n",
        "\n",
        "    ```\n",
        "    강남점 예약 목록:\n",
        "    - 홍길동, 2024-05-20, 4명\n",
        "    홍대점 예약 목록:\n",
        "    - 김철수, 2024-05-21, 2명\n",
        "    전체 레스토랑 예약 수: 2\n",
        "    ```\n",
        "\n",
        "- **요구 사항**\n",
        "\n",
        "  - 모든 출력 메시지는 한국어로 제공되어야 합니다.\n",
        "  - 각 메서드는 적절한 입력 검증과 예외 처리를 포함해야 합니다.\n",
        "  - `sum_reservations` 클래스 메서드는 모든 지점에서의 예약 수를 효과적으로 합산하여 전체 예약 상태를 중앙에서 확인할 수 있게 합니다."
      ],
      "metadata": {
        "id": "LzZjOpGlIlYk"
      }
    },
    {
      "cell_type": "code",
      "source": [
        "# 문제\n",
        "# __init__: 레스토랑 지점의 이름을 초기화하고 예약 리스트를 관리합니다.\n",
        "# add_reservation: 새로운 예약을 추가합니다. 이 메서드는 예약자 이름, 예약 일시, 인원 수를 받아 저장합니다.\n",
        "# list_reservations: 현재 지점의 모든 예약 상태를 출력합니다.\n",
        "# sum_reservations: 주어진 ReservationSystem 인스턴스 리스트에서 모든 예약 수를 합산합니다.\n",
        "class ReservationSystem:\n",
        "  def __init__(self, name):\n",
        "    self.name = name\n",
        "    self.reservation = []\n",
        "\n",
        "  def add_reservation(self, name, date, headcount):\n",
        "    add = {'name': name, 'date': date, 'headcount': headcount}\n",
        "    self.reservation.append(add)\n",
        "\n",
        "  def sub_reservation(self, name, date, headcount):\n",
        "    for sub in self.reservation:\n",
        "      if sub['name'] == name and sub['date'] == date and sub['headcount'] == headcount:\n",
        "        self.reservation.remove(sub)\n",
        "\n",
        "  def list_reservations(self):\n",
        "    print(f'{self.name} 예약 목록:')\n",
        "    for s in self.reservation:\n",
        "      print(f'- {s[\"name\"]}, {s[\"date\"]}, {s[\"headcount\"]}')\n",
        "\n",
        "  @classmethod\n",
        "  def sum_reservations(cls, reservation_list):\n",
        "    total_reservation = 0\n",
        "    for s in reservation_list:\n",
        "      total_reservation += len(s.reservation)\n",
        "    return total_reservation"
      ],
      "metadata": {
        "id": "3SEG3Jh-JBha"
      },
      "execution_count": null,
      "outputs": []
    },
    {
      "cell_type": "code",
      "source": [
        "# 사용 예시\n",
        "restaurant1 = ReservationSystem(\"강남점\")\n",
        "restaurant2 = ReservationSystem(\"홍대점\")\n",
        "\n",
        "restaurant1.add_reservation(\"홍길동\", \"2024-05-20\", 4)\n",
        "restaurant2.add_reservation(\"김철수\", \"2024-05-21\", 2)\n",
        "\n",
        "restaurant1.list_reservations()\n",
        "restaurant2.list_reservations()\n",
        "\n",
        "total_reservations = ReservationSystem.sum_reservations([restaurant1, restaurant2])\n",
        "print(f\"전체 레스토랑 예약 수: {total_reservations}\")"
      ],
      "metadata": {
        "id": "B5OAo28nZ4_z",
        "colab": {
          "base_uri": "https://localhost:8080/"
        },
        "outputId": "4ef6c8bd-27b2-440b-e983-6f405b2ccdd6"
      },
      "execution_count": null,
      "outputs": [
        {
          "output_type": "stream",
          "name": "stdout",
          "text": [
            "강남점 예약 목록:\n",
            "- 홍길동, 2024-05-20, 4\n",
            "홍대점 예약 목록:\n",
            "- 김철수, 2024-05-21, 2\n",
            "전체 레스토랑 예약 수: 2\n"
          ]
        }
      ]
    },
    {
      "cell_type": "markdown",
      "source": [
        "# **심화 문제**\n",
        "\n",
        "심화 문제는 채점에 포함되지 않습니다. 편한 마음으로 도전해 보세요."
      ],
      "metadata": {
        "id": "bkd6-iPqJb5w"
      }
    },
    {
      "cell_type": "markdown",
      "source": [
        "## 심화(4문제)"
      ],
      "metadata": {
        "id": "mzIDKWPjWZqc"
      }
    },
    {
      "cell_type": "markdown",
      "source": [
        "### 문제1. 시간 관리 프로그램"
      ],
      "metadata": {
        "id": "sSy0kCSEJjIa"
      }
    },
    {
      "cell_type": "markdown",
      "source": [
        "- **실습 설명**\n",
        "\n",
        "  이 프로그램은 사용자가 제한된 시간 내에 최대한 많은 일을 수행할 수 있도록 돕습니다. 할 일과 각각의 소요 시간이 CSV 파일에 저장되어 있으며, 사용자는 이 데이터와 자신에게 남은 시간을 입력하여 이용할 수 있습니다. 프로그램은 사용자가 입력한 시간 내에서 가능한 최대한 많은 할 일을 선택하고, 선택된 할 일을 소요 시간이 짧은 순으로 정렬하여 출력합니다. 이를 통해 사용자는 가장 시간을 최적화하여 일정을 관리할 수 있습니다.\n",
        "\n",
        "- **기능 설명**\n",
        "  - 데이터 읽기: 사용자로부터 CSV 파일 경로를 입력받아 파일을 읽습니다. 파일은 각 할 일과 그에 소요되는 시간을 포함합니다.\n",
        "  - 할 일 선택: 사용자에게 남은 시간을 입력받습니다. 이 시간을 기준으로 할 수 있는 최대한의 할 일을 선택합니다.\n",
        "  - 결과 출력: 선택된 할 일을 소요 시간이 짧은 순으로 정렬하여 출력합니다. 출력 형식은 목록 형태로 할 일과 예상 소요 시간을 포함합니다.\n",
        "\n",
        "- **입출력 예시**\n",
        "\n",
        "    - 할 일 및 소요 시간 CSV 파일 예시 (`tasks.csv`):\n",
        "        ```\n",
        "        할일,소요시간\n",
        "        공부하기,120\n",
        "        운동하기,60\n",
        "        가계부정리,30\n",
        "        영화보기,150\n",
        "        ```\n",
        "\n",
        "    - 입력:\n",
        "        ```\n",
        "        남은 시간(분): 210\n",
        "        ```\n",
        "\n",
        "    - 출력:\n",
        "        ```\n",
        "        선택된 할 일 목록:\n",
        "        1. 가계부정리 - 예상 소요 시간: 30분\n",
        "        2. 운동하기 - 예상 소요 시간: 60분\n",
        "        3. 공부하기 - 예상 소요 시간: 120분\n",
        "        ```"
      ],
      "metadata": {
        "id": "4iGvFHpgJ5b4"
      }
    },
    {
      "cell_type": "code",
      "source": [
        "### 문제를 위한 파일 생성코드입니다. 문제를 풀기 전 이 코드를 반드시 실행해주세요.\n",
        "\n",
        "import csv\n",
        "def write_tasks_to_csv(filename, tasks):\n",
        "    with open(filename, 'w', newline='') as csvfile:\n",
        "        fieldnames = ['할일', '소요시간']\n",
        "        writer = csv.DictWriter(csvfile, fieldnames=fieldnames)\n",
        "\n",
        "        writer.writeheader()\n",
        "        for task, time in tasks:\n",
        "            writer.writerow({'할일': task, '소요시간': time})\n",
        "\n",
        "tasks = [\n",
        "    ('공부하기', 120),\n",
        "    ('운동하기', 60),\n",
        "    ('가계부정리', 30),\n",
        "    ('영화보기', 150)\n",
        "]\n",
        "\n",
        "write_tasks_to_csv('tasks.csv', tasks)"
      ],
      "metadata": {
        "id": "cSylWzAlJdDQ"
      },
      "execution_count": null,
      "outputs": []
    },
    {
      "cell_type": "code",
      "source": [
        "import csv\n",
        "\n",
        "# 문제\n",
        "def load_tasks(filename):\n",
        "    tasks = []\n",
        "    with open(filename, newline='', encoding='utf-8') as csvfile:\n",
        "        reader = csv.reader(csvfile)\n",
        "        next(reader)\n",
        "        for row in reader:\n",
        "            task = row[0]\n",
        "            time_needed = int(row[1])\n",
        "            tasks.append((task, time_needed))\n",
        "    return tasks\n",
        "\n",
        "def suggest_tasks(tasks, remaining_time):\n",
        "    tasks.sort(key=lambda x: x[1])\n",
        "\n",
        "    selected_tasks = []\n",
        "    total_time = 0\n",
        "\n",
        "    for task, time in tasks:\n",
        "        if total_time + time <= remaining_time:\n",
        "            selected_tasks.append((task, time))\n",
        "            total_time += time\n",
        "\n",
        "    return selected_tasks\n",
        "\n",
        "def main():\n",
        "    file_path = 'tasks.csv'\n",
        "    remaining_time = int(input(\"남은 시간(분)을 입력하세요: \"))\n",
        "\n",
        "    tasks = load_tasks(file_path)\n",
        "    selected_tasks = suggest_tasks(tasks, remaining_time)\n",
        "\n",
        "    print(\"선택된 할 일 목록:\")\n",
        "    for idx, (task, time) in enumerate(selected_tasks, start=1):\n",
        "        print(f\"{idx}. {task} - 예상 소요 시간: {time}분\")"
      ],
      "metadata": {
        "id": "mQWxIuB3Jd46"
      },
      "execution_count": null,
      "outputs": []
    },
    {
      "cell_type": "code",
      "source": [
        "# 프로그램 실행\n",
        "if __name__ == \"__main__\":\n",
        "    main()"
      ],
      "metadata": {
        "id": "GCGyO3vSaDX-",
        "colab": {
          "base_uri": "https://localhost:8080/"
        },
        "outputId": "5d4d1f52-09ed-4681-ae48-93cbccf58779"
      },
      "execution_count": null,
      "outputs": [
        {
          "output_type": "stream",
          "name": "stdout",
          "text": [
            "남은 시간(분)을 입력하세요: 210\n",
            "선택된 할 일 목록:\n",
            "1. 가계부정리 - 예상 소요 시간: 30분\n",
            "2. 운동하기 - 예상 소요 시간: 60분\n",
            "3. 공부하기 - 예상 소요 시간: 120분\n"
          ]
        }
      ]
    },
    {
      "cell_type": "markdown",
      "source": [
        "\n",
        "이 문제에서는 남은 시간을 최적으로 활용하는 방법을 고려하고 있습니다. 할 일을 선택하는 과정에서 간혹 같은 총 소요 시간 내에서 여러 조합의 할 일 목록을 선택할 수 있는 상황이 발생할 수 있습니다. 이러한 경우, 어떤 기준을 적용하여 할 일의 조합을 결정할까요?      \n",
        "                  \n",
        "       \n",
        "\n",
        "다음과 같은 기준들을 고려해볼 수 있습니다:   \n",
        "- 가장 많은 할 일을 포함하는 조합: 가능한 많은 다양한 활동을 하고자 할 때 선택할 수 있는 방법입니다.\n",
        "- 가장 적은 시간이 남는 조합: 가용 시간을 거의 다 쓰는 조합을 선택하여 시간을 최대한 활용하고자 할 때 선택할 수 있는 방법입니다.\n",
        "- 특정 할 일을 우선하는 조합: 개인의 선호도나 긴급도에 따라 특정 할 일을 우선적으로 포함시키는 조합을 선택할 수 있습니다.\n",
        "- 가장 많은 시간을 소모하는 할 일을 포함하는 조합: 가장 긴 시간이 필요한 할 일을 포함시켜, 일상에서 잘 못하던 일을 이번 기회에 해결하고자 할 때 선택할 수 있는 방법입니다.\n",
        "\n",
        "이러한 선택지 중에서 어떤 기준이 당신의 상황에 가장 적합한지 고민해보고, 이를 코드로 반영해보세요."
      ],
      "metadata": {
        "id": "qInOiISZLw36"
      }
    },
    {
      "cell_type": "markdown",
      "source": [
        "### 문제2. 수학 퍼즐: 소수의 합"
      ],
      "metadata": {
        "id": "ZL_5Je5tLoEK"
      }
    },
    {
      "cell_type": "markdown",
      "source": [
        "- **실습 설명**  \n",
        "  이 프로그램은 사용자로부터 어떤 수 이하의 소수의 합을 구할 것인지 입력 받아, 해당 수까지의 모든 소수의 합을 계산하여 출력합니다. 소수(prime number)는 1과 자기 자신만을 약수로 가지는 자연수를 말합니다. 소수를 찾는 방법은 자유롭게 선택할 수 있지만, 효율적인 방법을 고려하여 구현해야 합니다.\n",
        "\n",
        "- **기능 설명**\n",
        "  - 소수 판별: 주어진 수까지의 모든 자연수에 대해 소수 여부를 판별합니다. (힌트 : 에라토스테네스의 체)\n",
        "  - 소수 합 계산: 판별된 소수들의 합을 계산합니다.\n",
        "  - 결과 출력: 계산된 소수의 합을 출력합니다. 출력 형식은 사용자가 입력한 수까지의 소수 합과 그 값을 포함합니다.\n",
        "\n",
        "- **입출력 예시**\n",
        "\n",
        "  - 입력:\n",
        "\n",
        "  ```\n",
        "  어떤 수까지의 소수의 합을 구하시겠습니까?: 10\n",
        "  ```\n",
        "  - 출력:\n",
        "\n",
        "  ```\n",
        "  10 이하 소수의 합은 17입니다.\n",
        "  ```"
      ],
      "metadata": {
        "id": "1fJY0HQEL8Qv"
      }
    },
    {
      "cell_type": "code",
      "source": [
        "# 문제\n",
        "def is_prime(num):\n",
        "    pass\n",
        "\n",
        "def sum_of_primes(n):\n",
        "    pass\n",
        "\n",
        "def main():\n",
        "    pass"
      ],
      "metadata": {
        "id": "txK2vvrNLmdq"
      },
      "execution_count": null,
      "outputs": []
    },
    {
      "cell_type": "code",
      "source": [
        "# 프로그램 실행\n",
        "if __name__ == \"__main__\":\n",
        "    main()"
      ],
      "metadata": {
        "id": "Rs_Kz0wwaPc3"
      },
      "execution_count": null,
      "outputs": []
    },
    {
      "cell_type": "markdown",
      "source": [
        "### 문제3. 도서관 관리 시스템"
      ],
      "metadata": {
        "id": "pJ30RiGXSRIi"
      }
    },
    {
      "cell_type": "markdown",
      "source": [
        "\n",
        "- **실습 설명**\n",
        "\n",
        "  당신은 지역 도서관에서 시스템 개발자로 일하고 있으며, 도서관의 도서, 회원, 대여 정보를 효과적으로 관리하는 시스템을 개발할 임무를 맡았습니다. `LibraryManagement` 클래스와 여러 하위 클래스를 구현하여, 도서의 추가, 삭제, 검색, 대여 및 반납 기능을 포괄적으로 다루어야 합니다.\n",
        "\n",
        "- **시스템 구성 요소**\n",
        "\n",
        "  - **도서(Books)**: 도서 정보를 저장합니다. 각 도서는 제목, 저자, 출판년도, ISBN 등의 정보를 포함해야 합니다.\n",
        "  - **회원(Members)**: 회원 정보를 관리합니다. 각 회원은 이름, 회원번호, 대여 중인 도서 목록 등의 정보를 갖습니다.\n",
        "  - **대여 관리(Rentals)**: 도서 대여 및 반납 정보를 처리합니다. 대여 시 회원 ID와 도서 ISBN을 연결하고, 대여일 및 반납일을 기록합니다.\n",
        "\n",
        "- **구현해야 할 메소드 및 클래스**\n",
        "\n",
        "  1. **Book Class**:\n",
        "    - 도서 정보(제목, 저자, 출판년도, ISBN)를 저장하는 클래스입니다.\n",
        "    - 각 도서 객체는 고유 정보를 관리합니다.\n",
        "\n",
        "  2. **Member Class**:\n",
        "    - 회원 정보(이름, 회원번호, 대여 중인 도서 목록)를 저장하는 클래스입니다.\n",
        "    - 회원별 대여 기록을 관리합니다.\n",
        "\n",
        "  3. **Rental Class**:\n",
        "    - 대여 정보(회원 ID, 도서 ISBN, 대여일, 반납일)를 저장하는 클래스입니다.\n",
        "    - 대여 및 반납 프로세스를 처리합니다.\n",
        "\n",
        "  4. **LibraryManagement**:\n",
        "    - 도서, 회원, 대여 정보를 관리하는 메소드와 데이터 구조를 포함합니다.\n",
        "    - 도서 추가, 삭제, 검색 메소드를 구현합니다.\n",
        "    - 회원 등록, 정보 조회 메소드를 구현합니다.\n",
        "    - 대여 및 반납 프로세스를 관리하는 메소드를 구현합니다.\n",
        "\n",
        "- **예시**\n",
        "  \n",
        "  - 다음과 같은 코드를 실행했을 때의 출력 예시입니다:\n",
        "\n",
        "      ```python\n",
        "      # 도서관 관리 시스템 초기화\n",
        "      library_system = LibraryManagement()\n",
        "\n",
        "      # 도서 추가\n",
        "      library_system.add_book(\"1984\", \"조지 오웰\", 1949, \"978-0451524935\")\n",
        "      library_system.add_book(\"앵무새 죽이기\", \"하퍼 리\", 1960, \"978-0446310789\")\n",
        "      print()\n",
        "\n",
        "      # 회원 등록\n",
        "      library_system.add_member(\"홍길동\")\n",
        "      print()\n",
        "\n",
        "      # 도서 대여\n",
        "      library_system.rent_book(\"978-0451524935\", \"홍길동\")\n",
        "      print()\n",
        "\n",
        "      # 도서 정보 출력\n",
        "      library_system.print_books()\n",
        "      print()\n",
        "\n",
        "      # 회원 정보 출력\n",
        "      library_system.print_members()\n",
        "\n",
        "      # 도서 반납\n",
        "      library_system.return_book(\"978-0451524935\", \"홍길동\")\n",
        "      print()\n",
        "\n",
        "      # 회원 정보 출력\n",
        "      library_system.print_members()\n",
        "      ```\n",
        "  \n",
        "  - 출력 예시:\n",
        "    \n",
        "    ```\n",
        "    '1984' (저자: 조지 오웰, 출판년도: 1949) 도서가 추가되었습니다.\n",
        "    '앵무새 죽이기' (저자: 하퍼 리, 출판년도: 1960) 도서가 추가되었습니다.\n",
        "    회원 '홍길동'님이 등록되었습니다.\n",
        "    '홍길동' 회원님이 '1984' 도서를 대여하였습니다.\n",
        "    도서 목록:\n",
        "    - 1984 (저자: 조지 오웰, 출판년도: 1949)\n",
        "    - 앵무새 죽이기 (저자: 하퍼 리, 출판년도: 1960)\n",
        "    회원 목록:\n",
        "    - 홍길동 (대여 중인 도서: 1984)\n",
        "    '홍길동' 회원님이 '1984' 도서를 반납하였습니다.   \n",
        "    회원 목록:\n",
        "    - 홍길동 (대여 중인 도서: 없음)\n",
        "    ```\n",
        "\n",
        "- **요구 사항**\n",
        "\n",
        "  - 모든 클래스 및 메소드는 적절한 입력 검증과 예외 처리를 포함해야 합니다.\n",
        "  - 시스템은 사용자의 행동에 따라 적절한 피드백을 제공해야 합니다. (예: 도서가 없을 때, 회원 정보가 없을 때)\n"
      ],
      "metadata": {
        "id": "rVE7padZSTqv"
      }
    },
    {
      "cell_type": "code",
      "source": [
        "# 문제\n",
        "class Book:\n",
        "    pass\n",
        "\n",
        "class Member:\n",
        "    pass\n",
        "\n",
        "class Rental:\n",
        "    pass\n",
        "\n",
        "class LibraryManagement:\n",
        "    pass"
      ],
      "metadata": {
        "id": "WjiD18H0SS9e"
      },
      "execution_count": null,
      "outputs": []
    },
    {
      "cell_type": "code",
      "source": [
        "# 사용 예시\n",
        "library = LibraryManagement()\n",
        "library.add_book(\"1984\", \"조지 오웰\", 1949, \"978-0451524935\")\n",
        "library.add_book(\"앵무새 죽이기\", \"하퍼 리\", 1960, \"978-0446310789\")\n",
        "library.add_member(\"홍길동\")\n",
        "\n",
        "library.rent_book(\"978-0451524935\", \"홍길동\")\n",
        "library.print_books()\n",
        "library.print_members()\n",
        "library.return_book(\"978-0451524935\", \"홍길동\")\n",
        "library.print_members()"
      ],
      "metadata": {
        "id": "cvO4Q2-UTRiz"
      },
      "execution_count": null,
      "outputs": []
    },
    {
      "cell_type": "markdown",
      "source": [
        "심화문제를 풀고 싶으나 어디서부터 시작해야 할지 막막하다면, 이래의 단계별 개발 가이드를 참고해보세요.\n",
        "\n",
        "\n",
        "- **1단계: 기본 클래스 정의**\n",
        "  - **목표**: 도서, 회원, 대여 정보를 저장할 기본 클래스를 생성합니다.\n",
        "\n",
        "  - **주요 작업**\n",
        "    1. `Book` 클래스 생성: `__init__` 메소드에는 `title`, `author`, `publication_year`, `isbn` 파라미터를 포함시킵니다.\n",
        "    2. `Member` 클래스 생성: `__init__` 메소드에는 `name` 파라미터를 포함시키고, 대여 중인 도서 목록을 관리할 리스트를 초기화합니다.\n",
        "    3. `Rental` 클래스 생성: `__init__` 메소드에는 `book`, `member`, `rental_date`, `return_date` 파라미터를 포함시킵니다.\n",
        "\n",
        "- **2단계: 관리 시스템 클래스 구현**\n",
        "  - **목표**: 도서, 회원, 대여 정보를 관리하는 메소드를 포함하는 `LibraryManagement` 클래스를 구현합니다.\n",
        "\n",
        "  - **주요 작업**\n",
        "    1. `LibraryManagement` 클래스에 필요한 인스턴스 변수 초기화: 도서 목록, 회원 목록, 대여 목록.\n",
        "    2. 도서 추가 메소드(`add_book`) 구현.\n",
        "    3. 회원 추가 메소드(`add_member`) 구현.\n",
        "    4. 도서 대여 메소드(`rent_book`) 구현.\n",
        "    5. 도서 반납 메소드(`return_book`) 구현.\n",
        "\n",
        "- **3단계: 도서 및 회원 정보 조회 기능 추가**\n",
        "  - **목표**: 도서 및 회원 정보를 조회하고 출력하는 기능을 구현합니다.\n",
        "\n",
        "  - **주요 작업**\n",
        "    1. 도서 목록 출력 메소드(`print_books`) 구현.\n",
        "    2. 회원 목록 출력 메소드(`print_members`) 구현.\n",
        "\n",
        "- **4단계: 테스트 및 디버깅**\n",
        "  - **목표**: 관리 시스템의 테스트하여 오류를 찾고 수정합니다.\n",
        "\n",
        "  - **주요 작업**\n",
        "    1. 각 단계에서 구현한 기능을 개별적으로 테스트합니다.\n",
        "    2. 예상하지 못한 에러가 발생하면 원인을 분석하고 수정합니다.\n",
        "    3. 오류 메시지 외에 처리 과정을 확인하고 필요에 따라 수정합니다.\n"
      ],
      "metadata": {
        "id": "cM8h84fQUi_t"
      }
    }
  ]
}